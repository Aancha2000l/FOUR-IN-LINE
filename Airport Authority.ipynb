{
 "cells": [
  {
   "cell_type": "markdown",
   "metadata": {},
   "source": [
    "In an airport , the Airport  authority decides to charge some minimum amount to the passengers who are carrying luggage with them. They set a threshold weight value, say T, if the luggage exceeds the weight threshold you should pay double the base amount. If it is less than or equal to threshold then you have to pay $1.  \n",
    "\n",
    "Function Description:\n",
    "\n",
    "Complete the weightMachine function in the editor below. It has the following parameter(s):\n",
    "\n",
    "Parameters:\n",
    "\n",
    "Name\tType\tDescription\n",
    "N\tInteger\tnumber of luggage\n",
    "T\tInteger\tweight of each luggage\n",
    "weights[ ]\tInteger array\tthreshold weight\n",
    " \n",
    "\n",
    "Returns: The function must return an INTEGER denoting the required amount to be paid.\n",
    "\n",
    " \n",
    "\n",
    "Constraints:\n",
    "\n",
    "1 <= N <= 10^5\n",
    "1 <= weights[i] <= 10^5\n",
    "1 <= T <= 10^5\n",
    " \n",
    "\n",
    "Input Format for Custom Testing:\n",
    "\n",
    "The first line contains an integer, N, denoting the number of luggages. \n",
    "Each line i of the N subsequent lines (where 0 <= i <n) contains an integer describing weight of ith luggage. \n",
    "The next line contains an integer, T, denoting the threshold weight of the boundary wall.\n",
    " \n",
    "\n",
    "Sample Cases:\n",
    "\n",
    "Sample Input 1\n",
    "4\n",
    "1\n",
    "2\n",
    "3\n",
    "4\n",
    "3\n",
    "Sample Output 1\n",
    "5\n",
    "Explanation:\n",
    "Here all weights are less than threshold weight except the luggage with weight 4 (at index 3) so all pays base fare and it pays double fare."
   ]
  },
  {
   "cell_type": "code",
   "execution_count": 6,
   "metadata": {},
   "outputs": [
    {
     "name": "stdout",
     "output_type": "stream",
     "text": [
      "4\n",
      "1\n",
      "2\n",
      "3\n",
      "4\n",
      "3\n",
      "5\n"
     ]
    }
   ],
   "source": [
    "def weightMachine(n,luggage,T):\n",
    "    weights = 0\n",
    "    for i in luggage:\n",
    "        if i > T:\n",
    "            weights+=2\n",
    "        else: \n",
    "            weights+=1    \n",
    "    return weights        \n",
    "    \n",
    "\n",
    "n = int(input())\n",
    "luggage = []\n",
    "for i in range(n): luggage.append(int(input()))\n",
    "T= int(input());\n",
    "print(weightMachine(n,luggage,T))"
   ]
  },
  {
   "cell_type": "code",
   "execution_count": null,
   "metadata": {},
   "outputs": [],
   "source": []
  }
 ],
 "metadata": {
  "kernelspec": {
   "display_name": "Python 3",
   "language": "python",
   "name": "python3"
  },
  "language_info": {
   "codemirror_mode": {
    "name": "ipython",
    "version": 3
   },
   "file_extension": ".py",
   "mimetype": "text/x-python",
   "name": "python",
   "nbconvert_exporter": "python",
   "pygments_lexer": "ipython3",
   "version": "3.8.5"
  }
 },
 "nbformat": 4,
 "nbformat_minor": 4
}
