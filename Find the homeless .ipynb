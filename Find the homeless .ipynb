{
 "cells": [
  {
   "cell_type": "markdown",
   "metadata": {},
   "source": [
    " There are N Homeless people in the community and N houses in the community. It will be given in the array (people) , height of the person and in the array house capacity of the house is given.\n",
    "\n",
    "Government decided to give homes for people on the basis of following conditions:\n",
    "\n",
    "Priority is given for the people from left to right of the array\n",
    "Each person is allotted to a house if and only if the capacity of house is greater than or equal to persons height\n",
    "Nearby empty Houses are alloted to the person( starting from extreme left)\n",
    "You need to find the number of homeless people who have not allotted any home if the government follows the above conditions.So that government will have an idea for how many people they need to allot home for next time.\n",
    "\n",
    "Constraints:\n",
    "\n",
    "1 <= N <= 10^3\n",
    "1 <= people[i] <= 10^5\n",
    "1 <= house[i] <= 10^5\n",
    "Input Format for Custom Testing:\n",
    "\n",
    "The first line contains an integer, N, denoting the number of  people and number of houses.\n",
    "Each line i of the N subsequent lines (where 0 <= i <= N) contains an integer describing peoplei.\n",
    "Each line i of the N subsequent lines (where 0 <= i <= N) contains an integer describing housei.\n",
    "Sample Test Cases\n",
    "\n",
    "Sample Input 1\n",
    "3  \n",
    "4\n",
    "2\n",
    "7\n",
    "3\n",
    "5\n",
    "10\n",
    "Sample Output 1\n",
    "0\n",
    "Explanation\n",
    "people=[4,2,7]\n",
    "house=[3,5,10]\n",
    "People[0] has more priority , from left to right order in houses 5 is the nearest one which fits for people[0]\n",
    "people[1]=2 will fit in 3 which is nearer from left\n",
    "people[2]=7 will fit in remaining house of capacity of 10\n",
    "So no homeless people left so return 0 \n",
    "Sample Input 2\n",
    "3\n",
    "3\n",
    "8\n",
    "5\n",
    "1\n",
    "9\n",
    "4\n",
    "Sample Output 2\n",
    "2\n",
    "Explanation\n",
    "people=[3,8,5]\n",
    "house=[1,9,4]\n",
    "people[0]=3 can fit in 9 which is nearest from left in array house\n",
    "people[1]=8  cannot fit in any home which is left (i.e, 1 and 4)\n",
    "people[2]=5 cannot fit in any home which is left (i.e, 1 and 4)\n",
    "So return 2,which is number of homeless people"
   ]
  },
  {
   "cell_type": "code",
   "execution_count": 5,
   "metadata": {},
   "outputs": [
    {
     "name": "stdout",
     "output_type": "stream",
     "text": [
      "3\n",
      "4\n",
      "1\n",
      "6\n",
      "3\n",
      "1\n",
      "5\n",
      "1\n"
     ]
    }
   ],
   "source": [
    "n = int(input())\n",
    "people =[]\n",
    "home = []\n",
    "for i in range(n): people.append(int(input()))\n",
    "for i in range(n): home.append(int(input()))\n",
    "count = 0 \n",
    "for i in range(n):\n",
    "    for j in range(n):\n",
    "        if people[i] <= home[j]:\n",
    "            count +=1\n",
    "            home[j]=-1\n",
    "            break\n",
    "print(n-count)           \n",
    "        "
   ]
  },
  {
   "cell_type": "code",
   "execution_count": null,
   "metadata": {},
   "outputs": [],
   "source": []
  }
 ],
 "metadata": {
  "kernelspec": {
   "display_name": "Python 3",
   "language": "python",
   "name": "python3"
  },
  "language_info": {
   "codemirror_mode": {
    "name": "ipython",
    "version": 3
   },
   "file_extension": ".py",
   "mimetype": "text/x-python",
   "name": "python",
   "nbconvert_exporter": "python",
   "pygments_lexer": "ipython3",
   "version": "3.8.5"
  }
 },
 "nbformat": 4,
 "nbformat_minor": 4
}
