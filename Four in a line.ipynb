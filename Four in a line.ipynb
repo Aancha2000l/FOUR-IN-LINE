/*Given a m x n matrix inmatrix of positive integers, print an integer outnum based on the below logic.

Identify all possible sets in inmatrix that contain at least four consecutive elements of the same value val, either horizontally, vertically, or diagonally
If only one set of consecutive elements is identified, store the value val in outnum
If more than one set of consecutive elements is identified, find the smallest value and store it in outnum
If no set of four consecutive elements of the same value is identified either horizontally, vertically, or diagonally, print-1


Assumption: m and n will be greater than 3



Input format:

First line will contain number of rows m of inmatrix.

The next m lines will contain the elements of inmatrix. Each line will have n elements separated by space.

Read the input from the standard input stream.



Output format:

Print outnum to the standard output stream.



Example 1

Sample input:

5     

0 1 6 8 8 9

5 6 1 6 8 9

6 5 6 1 1 9

1 6 6 1 1 9

6 3 3 3 3 9



Sample output:

1



Explanation:

Following elements are present consecutively at least four times: Element 3 horizontally in the 5th row. Element 1 diagonally starting from the 2nd column in the first row. Element 6 diagonally starting from the 4th column in the second row. Element 9 vertically in the 6th column. As element 1 is the smallest value of the four identified sets of consecutive values, the output is 1.



Example 2

Sample input:

5

0 1 6 8 6 0

5 5 2 1 8 2

6 5 6 1 1 9

1 5 6 1 4 0

3 7 3 3 4 0



Sample output:

-1



Explanation:

Here there are no sets of four consecutive elements of the same value either horizontally, vertically, or diagonally. Hence the output is-1



Code Solution in Python:

Input:

5     

0 1 6 8 8 9

5 6 1 6 8 9

6 5 6 1 1 9

1 6 6 1 1 9

6 3 3 3 3 9 */




{
 "cells": [
  {
   "cell_type": "code",
   "execution_count": 2,
   "metadata": {},
   "outputs": [
    {
     "name": "stdout",
     "output_type": "stream",
     "text": [
      "3\n",
      "1 1 1 1 1\n",
      "2 2 2 2 2\n",
      "3 3 3 3 3\n",
      "1\n"
     ]
    }
   ],
   "source": [
    "def FreqCheck(arr):\n",
    "    elements_count = {}\n",
    "    a=[]\n",
    "    for element in arr:\n",
    "        if element in elements_count:\n",
    "            elements_count[element] += 1\n",
    "        else:\n",
    "            elements_count[element] = 1\n",
    "    for key, value in elements_count.items():\n",
    "        if(value>=4):\n",
    "            return key\n",
    " \n",
    "            \n",
    "def get_rows(grid):\n",
    "    return [[c for c in r] for r in grid]\n",
    "def get_cols(grid):\n",
    "    return zip(*grid)\n",
    "def get_backward_diagonals(grid):\n",
    "    b = [None] * (len(grid) - 1)\n",
    "    grid = [b[i:] + r + b[:i] for i, r in enumerate(get_rows(grid))]\n",
    "    return [[c for c in r if c is not None] for r in get_cols(grid)]\n",
    "\n",
    "\n",
    "n=int (input())\n",
    "grid=[]\n",
    "for i in range(n):\n",
    "    grid.append(list(map(int,input().split(\" \"))))\n",
    "FinalList=[]    \n",
    "for i in range(n):\n",
    "    FinalList.append(FreqCheck(grid[i]))\n",
    "columns = [[grid[j][i] for j in range(len(grid))] for i in range(len(grid[0]))]\n",
    "for i in range(len(columns)):\n",
    "    FinalList.append(FreqCheck(columns[i]))\n",
    "diagonals=get_backward_diagonals(grid)\n",
    "for i in range(len(diagonals)):\n",
    "    FinalList.append(FreqCheck(diagonals[i]))\n",
    "    \n",
    "FinalList=[i for i in FinalList if i]\n",
    "if len(FinalList)==0:\n",
    "    print('-1')\n",
    "else:\n",
    "    print(min(FinalList))"
   ]
  },
  {
   "cell_type": "code",
   "execution_count": null,
   "metadata": {},
   "outputs": [],
   "source": []
  }
 ],
 "metadata": {
  "kernelspec": {
   "display_name": "Python 3",
   "language": "python",
   "name": "python3"
  },
  "language_info": {
   "codemirror_mode": {
    "name": "ipython",
    "version": 3
   },
   "file_extension": ".py",
   "mimetype": "text/x-python",
   "name": "python",
   "nbconvert_exporter": "python",
   "pygments_lexer": "ipython3",
   "version": "3.8.5"
  }
 },
 "nbformat": 4,
 "nbformat_minor": 4
}
