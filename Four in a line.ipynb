{
 "cells": [
  {
   "cell_type": "code",
   "execution_count": 2,
   "metadata": {},
   "outputs": [
    {
     "name": "stdout",
     "output_type": "stream",
     "text": [
      "3\n",
      "1 1 1 1 1\n",
      "2 2 2 2 2\n",
      "3 3 3 3 3\n",
      "1\n"
     ]
    }
   ],
   "source": [
    "def FreqCheck(arr):\n",
    "    elements_count = {}\n",
    "    a=[]\n",
    "    for element in arr:\n",
    "        if element in elements_count:\n",
    "            elements_count[element] += 1\n",
    "        else:\n",
    "            elements_count[element] = 1\n",
    "    for key, value in elements_count.items():\n",
    "        if(value>=4):\n",
    "            return key\n",
    " \n",
    "            \n",
    "def get_rows(grid):\n",
    "    return [[c for c in r] for r in grid]\n",
    "def get_cols(grid):\n",
    "    return zip(*grid)\n",
    "def get_backward_diagonals(grid):\n",
    "    b = [None] * (len(grid) - 1)\n",
    "    grid = [b[i:] + r + b[:i] for i, r in enumerate(get_rows(grid))]\n",
    "    return [[c for c in r if c is not None] for r in get_cols(grid)]\n",
    "\n",
    "\n",
    "n=int (input())\n",
    "grid=[]\n",
    "for i in range(n):\n",
    "    grid.append(list(map(int,input().split(\" \"))))\n",
    "FinalList=[]    \n",
    "for i in range(n):\n",
    "    FinalList.append(FreqCheck(grid[i]))\n",
    "columns = [[grid[j][i] for j in range(len(grid))] for i in range(len(grid[0]))]\n",
    "for i in range(len(columns)):\n",
    "    FinalList.append(FreqCheck(columns[i]))\n",
    "diagonals=get_backward_diagonals(grid)\n",
    "for i in range(len(diagonals)):\n",
    "    FinalList.append(FreqCheck(diagonals[i]))\n",
    "    \n",
    "FinalList=[i for i in FinalList if i]\n",
    "if len(FinalList)==0:\n",
    "    print('-1')\n",
    "else:\n",
    "    print(min(FinalList))"
   ]
  },
  {
   "cell_type": "code",
   "execution_count": null,
   "metadata": {},
   "outputs": [],
   "source": []
  }
 ],
 "metadata": {
  "kernelspec": {
   "display_name": "Python 3",
   "language": "python",
   "name": "python3"
  },
  "language_info": {
   "codemirror_mode": {
    "name": "ipython",
    "version": 3
   },
   "file_extension": ".py",
   "mimetype": "text/x-python",
   "name": "python",
   "nbconvert_exporter": "python",
   "pygments_lexer": "ipython3",
   "version": "3.8.5"
  }
 },
 "nbformat": 4,
 "nbformat_minor": 4
}
